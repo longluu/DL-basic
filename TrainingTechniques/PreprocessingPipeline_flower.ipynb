{
  "nbformat": 4,
  "nbformat_minor": 0,
  "metadata": {
    "colab": {
      "name": "preprocessingPipeline_flower.ipynb",
      "provenance": [],
      "collapsed_sections": []
    },
    "kernelspec": {
      "name": "python3",
      "display_name": "Python 3"
    },
    "accelerator": "GPU"
  },
  "cells": [
    {
      "cell_type": "code",
      "metadata": {
        "id": "3TmzbQJkCeXC",
        "colab_type": "code",
        "outputId": "f53abf79-addd-49a3-8720-bc01b21c4e96",
        "colab": {
          "base_uri": "https://localhost:8080/",
          "height": 101
        }
      },
      "source": [
        "try:\n",
        "  %tensorflow_version 2.x # enable TF 2.x in Colab\n",
        "except Exception:\n",
        "  pass"
      ],
      "execution_count": 0,
      "outputs": [
        {
          "output_type": "stream",
          "text": [
            "`%tensorflow_version` only switches the major version: `1.x` or `2.x`.\n",
            "You set: `2.x # enable TF 2.x in Colab`. This will be interpreted as: `2.x`.\n",
            "\n",
            "\n",
            "TensorFlow 2.x selected.\n"
          ],
          "name": "stdout"
        }
      ]
    },
    {
      "cell_type": "code",
      "metadata": {
        "id": "2oLmcZORRh7_",
        "colab_type": "code",
        "outputId": "390a553b-0054-4451-f354-b593b18f63c0",
        "colab": {
          "base_uri": "https://localhost:8080/",
          "height": 34
        }
      },
      "source": [
        "import tensorflow as tf\n",
        "print(tf.__version__)"
      ],
      "execution_count": 0,
      "outputs": [
        {
          "output_type": "stream",
          "text": [
            "2.1.0\n"
          ],
          "name": "stdout"
        }
      ]
    },
    {
      "cell_type": "markdown",
      "metadata": {
        "id": "A5UDOaU1AzVr",
        "colab_type": "text"
      },
      "source": [
        "## 1a) Flowers"
      ]
    },
    {
      "cell_type": "markdown",
      "metadata": {
        "id": "HQ3Hv7NGRTdy",
        "colab_type": "text"
      },
      "source": [
        "In this part of the assignment, you will train a model on a small existing dataset (flowers)."
      ]
    },
    {
      "cell_type": "code",
      "metadata": {
        "id": "Ks38bmgRA-xO",
        "colab_type": "code",
        "colab": {}
      },
      "source": [
        "import IPython.display as display\n",
        "import matplotlib.pyplot as plt\n",
        "import random\n",
        "import time\n",
        "\n",
        "from tensorflow.keras import datasets, layers, models\n",
        "\n",
        "AUTOTUNE = tf.data.experimental.AUTOTUNE\n",
        "BATCH_SIZE = 32\n",
        "IMG_SIZE = 192\n",
        "SHUFFLE_SIZE = 1000"
      ],
      "execution_count": 0,
      "outputs": []
    },
    {
      "cell_type": "markdown",
      "metadata": {
        "id": "5Rc1LdwCVFb4",
        "colab_type": "text"
      },
      "source": [
        "### Download the flowers dataset"
      ]
    },
    {
      "cell_type": "code",
      "metadata": {
        "id": "GRYep9qMqG15",
        "colab_type": "code",
        "colab": {}
      },
      "source": [
        "import pathlib\n",
        "data_root_orig = tf.keras.utils.get_file(origin='https://storage.googleapis.com/download.tensorflow.org/example_images/flower_photos.tgz',\n",
        "                                         fname='flower_photos', untar=True)\n",
        "data_root = pathlib.Path(data_root_orig)\n",
        "print(data_root)"
      ],
      "execution_count": 0,
      "outputs": []
    },
    {
      "cell_type": "markdown",
      "metadata": {
        "id": "WziL5x5QJUYk",
        "colab_type": "text"
      },
      "source": [
        "### Write an input pipeline from scratch\n",
        "There are several ways to load images in TensorFlow. Later in this assignment, you'll use the [Keras preprocessing utilities](https://keras.io/preprocessing/image/). For starters, though, you'll see how-to write your own using ```tf.data```, based on this [tutorial](https://www.tensorflow.org/beta/tutorials/load_data/images). This is valuable to do once (just so you can see how the nuts and bolts work) before using the higher level utils. This code is written for you as an example. Follow along and try to understand each piece.\n"
      ]
    },
    {
      "cell_type": "code",
      "metadata": {
        "id": "MsLuAd_9BOpr",
        "colab_type": "code",
        "colab": {}
      },
      "source": [
        "all_image_paths = list(data_root.glob('*/*'))\n",
        "all_image_paths = [str(path) for path in all_image_paths]\n",
        "random.shuffle(all_image_paths)\n",
        "\n",
        "image_count = len(all_image_paths)\n",
        "image_count"
      ],
      "execution_count": 0,
      "outputs": []
    },
    {
      "cell_type": "code",
      "metadata": {
        "id": "ViQ3n2MLBO49",
        "colab_type": "code",
        "colab": {}
      },
      "source": [
        "all_image_paths[:5]"
      ],
      "execution_count": 0,
      "outputs": []
    },
    {
      "cell_type": "markdown",
      "metadata": {
        "id": "KPxnpUSEVrZb",
        "colab_type": "text"
      },
      "source": [
        "### Get to know your data"
      ]
    },
    {
      "cell_type": "code",
      "metadata": {
        "id": "B6UzHIm9CJvM",
        "colab_type": "code",
        "colab": {}
      },
      "source": [
        "for n in range(3):\n",
        "  image_path = random.choice(all_image_paths)\n",
        "  display.display(display.Image(image_path))\n",
        "  print()"
      ],
      "execution_count": 0,
      "outputs": []
    },
    {
      "cell_type": "markdown",
      "metadata": {
        "id": "8GN3o_6PWRol",
        "colab_type": "text"
      },
      "source": [
        "### Classes are given by directory names"
      ]
    },
    {
      "cell_type": "code",
      "metadata": {
        "id": "WcHJPTI2BUFj",
        "colab_type": "code",
        "outputId": "a70035b8-ed18-47d8-8158-aa3e83d48c82",
        "colab": {
          "base_uri": "https://localhost:8080/",
          "height": 34
        }
      },
      "source": [
        "label_names = sorted(item.name for item in data_root.glob('*/') if item.is_dir())\n",
        "label_names"
      ],
      "execution_count": 0,
      "outputs": [
        {
          "output_type": "execute_result",
          "data": {
            "text/plain": [
              "['daisy', 'dandelion', 'roses', 'sunflowers', 'tulips']"
            ]
          },
          "metadata": {
            "tags": []
          },
          "execution_count": 8
        }
      ]
    },
    {
      "cell_type": "code",
      "metadata": {
        "id": "prA5LRsL-kAp",
        "colab_type": "code",
        "outputId": "07cd100e-d80c-46ff-a583-2df49224e871",
        "colab": {
          "base_uri": "https://localhost:8080/",
          "height": 34
        }
      },
      "source": [
        "label_to_index = dict((name, index) for index, name in enumerate(label_names))\n",
        "label_to_index"
      ],
      "execution_count": 0,
      "outputs": [
        {
          "output_type": "execute_result",
          "data": {
            "text/plain": [
              "{'daisy': 0, 'dandelion': 1, 'roses': 2, 'sunflowers': 3, 'tulips': 4}"
            ]
          },
          "metadata": {
            "tags": []
          },
          "execution_count": 9
        }
      ]
    },
    {
      "cell_type": "code",
      "metadata": {
        "id": "CLedPtLeBo3P",
        "colab_type": "code",
        "outputId": "83f74fee-d9ac-4371-f71e-6adedc4456d4",
        "colab": {
          "base_uri": "https://localhost:8080/",
          "height": 34
        }
      },
      "source": [
        "all_labels = [label_to_index[pathlib.Path(path).parent.name]\n",
        "                    for path in all_image_paths]\n",
        "\n",
        "print(\"First 10 labels indices: \", all_labels[:10])"
      ],
      "execution_count": 0,
      "outputs": [
        {
          "output_type": "stream",
          "text": [
            "First 10 labels indices:  [1, 0, 2, 2, 4, 4, 4, 2, 0, 1]\n"
          ],
          "name": "stdout"
        }
      ]
    },
    {
      "cell_type": "markdown",
      "metadata": {
        "id": "liCVsOmMAg0h",
        "colab_type": "text"
      },
      "source": [
        "### Create a train/test split"
      ]
    },
    {
      "cell_type": "code",
      "metadata": {
        "id": "VUWoRvziAjNR",
        "colab_type": "code",
        "colab": {}
      },
      "source": [
        "from sklearn.model_selection import train_test_split\n",
        "train_paths, test_paths, train_labels, test_labels = train_test_split(all_image_paths, all_labels)   "
      ],
      "execution_count": 0,
      "outputs": []
    },
    {
      "cell_type": "markdown",
      "metadata": {
        "id": "UWclr76cWY6d",
        "colab_type": "text"
      },
      "source": [
        "### Display a few images and their labels"
      ]
    },
    {
      "cell_type": "code",
      "metadata": {
        "id": "H88pb_WZCQ2V",
        "colab_type": "code",
        "colab": {}
      },
      "source": [
        "for n in range(3):\n",
        "  i = random.randint(0,len(train_paths))\n",
        "  image_path = train_paths[i]\n",
        "  print(label_names[train_labels[i]])\n",
        "  display.display(display.Image(image_path))\n",
        "  print()"
      ],
      "execution_count": 0,
      "outputs": []
    },
    {
      "cell_type": "markdown",
      "metadata": {
        "id": "6X-BkNVMWhFS",
        "colab_type": "text"
      },
      "source": [
        "### Begin using TensorFlow ops to read and decode the images"
      ]
    },
    {
      "cell_type": "code",
      "metadata": {
        "id": "XC1hfUW8Bt__",
        "colab_type": "code",
        "colab": {}
      },
      "source": [
        "img_raw = tf.io.read_file(train_paths[0])\n",
        "print(repr(img_raw)[:100]+\"...\")"
      ],
      "execution_count": 0,
      "outputs": []
    },
    {
      "cell_type": "code",
      "metadata": {
        "id": "nNhUSCKPBxo3",
        "colab_type": "code",
        "colab": {}
      },
      "source": [
        "img_tensor = tf.image.decode_image(img_raw)\n",
        "print(img_tensor.shape)\n",
        "print(img_tensor.dtype)"
      ],
      "execution_count": 0,
      "outputs": []
    },
    {
      "cell_type": "code",
      "metadata": {
        "id": "y2c_Cg3xB0sc",
        "colab_type": "code",
        "colab": {}
      },
      "source": [
        "img_final = tf.image.resize(img_tensor, [IMG_SIZE, IMG_SIZE])\n",
        "img_final = img_final / 255.0 # normalize pixel values\n",
        "print(img_final.shape)\n",
        "print(img_final.numpy().min())\n",
        "print(img_final.numpy().max())"
      ],
      "execution_count": 0,
      "outputs": []
    },
    {
      "cell_type": "markdown",
      "metadata": {
        "id": "RfRp-wOQR9-9",
        "colab_type": "text"
      },
      "source": [
        "### Wrap those in a function\n",
        "Tip: pay careful attention to the preprocessing. When you deploy models in the browser, you will need to ensure that images are preprocessed identically in JavaScript as they are in Python."
      ]
    },
    {
      "cell_type": "code",
      "metadata": {
        "id": "k5XfV-IoB33F",
        "colab_type": "code",
        "colab": {}
      },
      "source": [
        "def load_and_preprocess_image(path):\n",
        "  img = tf.io.read_file(path)\n",
        "  img = tf.image.decode_jpeg(img, channels=3)\n",
        "  img = tf.image.resize(img, [IMG_SIZE, IMG_SIZE])\n",
        "  img /= 255.0  # normalize pixels to 0,1\n",
        "  return img"
      ],
      "execution_count": 0,
      "outputs": []
    },
    {
      "cell_type": "code",
      "metadata": {
        "id": "G0iUW3KZB66L",
        "colab_type": "code",
        "colab": {}
      },
      "source": [
        "def show(img, label):\n",
        "  plt.imshow(img)\n",
        "  plt.title(label)\n",
        "  plt.xticks([])\n",
        "  plt.yticks([])\n",
        "  print()\n",
        "\n",
        "i = random.randint(0, len(train_labels))\n",
        "img_path = train_paths[i]\n",
        "img = load_and_preprocess_image(img_path)\n",
        "label = label_names[train_labels[i]]\n",
        "show(img, label)"
      ],
      "execution_count": 0,
      "outputs": []
    },
    {
      "cell_type": "markdown",
      "metadata": {
        "id": "E5rBhm42YFC9",
        "colab_type": "text"
      },
      "source": [
        "### Build an input pipeline to return images and labels\n",
        "I realize this is complicated. The problem we're trying to solve using tf.data is performance (we want our preprocessing to run in C, but to write our code in Python). There are a bunch of advanced tricks you can do with tf.data as well (e.g. prefetching images to the GPU).\n",
        "\n",
        "Note: although your *peak* performance can be higher, it's also very easy to make mistakes and end up with code that's super slow. Always benchmark your input pipelines before using them (shown in a bit). "
      ]
    },
    {
      "cell_type": "code",
      "metadata": {
        "id": "G3vFPZ15B8vz",
        "colab_type": "code",
        "colab": {}
      },
      "source": [
        "# a dataset that returns image paths\n",
        "path_ds = tf.data.Dataset.from_tensor_slices(train_paths)\n",
        "for n, img_path in enumerate(path_ds.take(4)):\n",
        "  print(n, img_path)"
      ],
      "execution_count": 0,
      "outputs": []
    },
    {
      "cell_type": "code",
      "metadata": {
        "id": "JBKMDNUaI1VW",
        "colab_type": "code",
        "colab": {}
      },
      "source": [
        "# a dataset that returns images (loaded off disk, decoded, and preprocessed)\n",
        "image_ds = path_ds.map(load_and_preprocess_image, num_parallel_calls=AUTOTUNE)\n",
        "for n, image in enumerate(image_ds.take(4)):\n",
        "  print(n, image.shape)"
      ],
      "execution_count": 0,
      "outputs": []
    },
    {
      "cell_type": "code",
      "metadata": {
        "id": "73M1D4kcJKA5",
        "colab_type": "code",
        "colab": {}
      },
      "source": [
        "# a dataset that returns labels\n",
        "label_ds = tf.data.Dataset.from_tensor_slices(tf.cast(train_labels, tf.int64))\n",
        "for label in label_ds.take(4):\n",
        "  print(label_names[label.numpy()])"
      ],
      "execution_count": 0,
      "outputs": []
    },
    {
      "cell_type": "code",
      "metadata": {
        "id": "rz4G6ec5JN14",
        "colab_type": "code",
        "colab": {}
      },
      "source": [
        "# a dataset that returns images and labels\n",
        "image_label_ds = tf.data.Dataset.zip((image_ds, label_ds))\n"
      ],
      "execution_count": 0,
      "outputs": []
    },
    {
      "cell_type": "code",
      "metadata": {
        "id": "ZOxThxj5KtgY",
        "colab_type": "code",
        "colab": {}
      },
      "source": [
        "for img, label in image_label_ds.take(2):\n",
        "  print(img.shape, label_names[label.numpy()])"
      ],
      "execution_count": 0,
      "outputs": []
    },
    {
      "cell_type": "markdown",
      "metadata": {
        "id": "2YQxyvQdYkwS",
        "colab_type": "text"
      },
      "source": [
        "### Batch and shuffle\n",
        "Why do we need to specify a shuffle_size parameter? tf.data works with streams (it doesn't know their length). To shuffle items, we maintain an in-memory buffer of this size."
      ]
    },
    {
      "cell_type": "code",
      "metadata": {
        "id": "MRC09hBCYmNH",
        "colab_type": "code",
        "colab": {}
      },
      "source": [
        "ds = image_label_ds.shuffle(SHUFFLE_SIZE)\n",
        "ds = ds.batch(BATCH_SIZE).prefetch(buffer_size=AUTOTUNE)\n",
        "\n",
        "for img, label in ds.take(2):\n",
        "  print(img.shape, label.shape) # notice it's returning batches of data now"
      ],
      "execution_count": 0,
      "outputs": []
    },
    {
      "cell_type": "markdown",
      "metadata": {
        "id": "gTUXFRceYvgB",
        "colab_type": "text"
      },
      "source": [
        "At this point, you could use the dataset above to train a model with ```model.fit(ds)``` but first, let's improve performance. As written, the dataset will load each image off disk, one at a time (super slow). Instead, we want to cache them in memory."
      ]
    },
    {
      "cell_type": "markdown",
      "metadata": {
        "id": "topeFvIZYKkM",
        "colab_type": "text"
      },
      "source": [
        "### Improve performance"
      ]
    },
    {
      "cell_type": "code",
      "metadata": {
        "id": "JiRagWwcLNZW",
        "colab_type": "code",
        "colab": {}
      },
      "source": [
        "# A benchmark utility to time how long it takes\n",
        "# to iterate once over the entire dataset\n",
        "def time_one_epoch(ds):\n",
        "  start = time.time()\n",
        "  batches = 0\n",
        "  for i,(images,labels) in enumerate(ds):\n",
        "    batches += 1\n",
        "    if i % 10 == 0:\n",
        "      print('.', end='')\n",
        "  print()\n",
        "  end = time.time()\n",
        "  duration = end-start\n",
        "  print(\"Read {} batches\".format(batches))\n",
        "  print(\"{:0.2f} Batches/s\".format(batches/duration))\n",
        "  print(\"{:0.2f} Images/s\".format(BATCH_SIZE*batches/duration))\n",
        "  print(\"Total time: {}s\".format(duration))"
      ],
      "execution_count": 0,
      "outputs": []
    },
    {
      "cell_type": "markdown",
      "metadata": {
        "id": "tl39fR2WNM4t",
        "colab_type": "text"
      },
      "source": [
        "### Use in-memory caching\n",
        "This is a small dataset, so let's keep it in memory. The first time we iterate over this dataset, images will be loaded off disk, then cached. The first iteration will be quite slow, and subsequent ones will be faster. Let's show that. "
      ]
    },
    {
      "cell_type": "code",
      "metadata": {
        "id": "vzs0lpOxKf1x",
        "colab_type": "code",
        "colab": {}
      },
      "source": [
        "ds = image_label_ds.cache() # cache data in mempry\n",
        "ds = ds.shuffle(SHUFFLE_SIZE)\n",
        "ds = ds.batch(BATCH_SIZE).prefetch(buffer_size=AUTOTUNE)"
      ],
      "execution_count": 0,
      "outputs": []
    },
    {
      "cell_type": "code",
      "metadata": {
        "id": "JAVRB2J6NjQ_",
        "colab_type": "code",
        "outputId": "334bc0e2-28da-4b08-d2e8-a1981f45ba98",
        "colab": {
          "base_uri": "https://localhost:8080/",
          "height": 101
        }
      },
      "source": [
        "time_one_epoch(ds) # this will be slow"
      ],
      "execution_count": 0,
      "outputs": [
        {
          "output_type": "stream",
          "text": [
            ".........\n",
            "Read 86 batches\n",
            "20.69 Batches/s\n",
            "662.00 Images/s\n",
            "Total time: 4.157100677490234s\n"
          ],
          "name": "stdout"
        }
      ]
    },
    {
      "cell_type": "markdown",
      "metadata": {
        "id": "kIZjksy8NS_J",
        "colab_type": "text"
      },
      "source": [
        "Now that the cache is built, iteration will be much faster."
      ]
    },
    {
      "cell_type": "code",
      "metadata": {
        "id": "fBD-VrIELSdU",
        "colab_type": "code",
        "outputId": "ba89b7ee-c635-4948-e643-a75ae7318e36",
        "colab": {
          "base_uri": "https://localhost:8080/",
          "height": 101
        }
      },
      "source": [
        "time_one_epoch(ds) # this will be fast"
      ],
      "execution_count": 0,
      "outputs": [
        {
          "output_type": "stream",
          "text": [
            ".........\n",
            "Read 86 batches\n",
            "226.84 Batches/s\n",
            "7258.98 Images/s\n",
            "Total time: 0.3791167736053467s\n"
          ],
          "name": "stdout"
        }
      ]
    },
    {
      "cell_type": "markdown",
      "metadata": {
        "id": "VrnsIfwXUBry",
        "colab_type": "text"
      },
      "source": [
        "### How-to use on-disk caching"
      ]
    },
    {
      "cell_type": "markdown",
      "metadata": {
        "id": "SR511DHJN_8A",
        "colab_type": "text"
      },
      "source": [
        "If the dataset did not fit into memory, you could use a cache file on disk, like this:\n",
        "\n",
        "```\n",
        "ds = image_label_ds.cache(filename='./cache.tf-data')\n",
        "ds = ds.shuffle(buffer_size=BUFFER_SIZE)\n",
        "ds = ds.batch(BATCH_SIZE).prefetch(buffer_size=AUTOTUNE)\n",
        "```\n",
        "\n",
        "This can be useful to perform expensive preprocessing only once, and/or to improve file I/O (TF saves the cache file in an efficient format - it can be faster to read one large file than a bunch of small ones). For now, we'll keep it in memory."
      ]
    },
    {
      "cell_type": "code",
      "metadata": {
        "id": "rp8BS9PKBs6S",
        "colab_type": "code",
        "colab": {}
      },
      "source": [
        "# here's our final training dataset\n",
        "train_ds = image_label_ds.cache()\n",
        "train_ds = train_ds.shuffle(SHUFFLE_SIZE)\n",
        "train_ds = train_ds.batch(BATCH_SIZE).prefetch(buffer_size=AUTOTUNE)\n",
        "\n",
        "# let's make a test dataset as well\n",
        "path_ds = tf.data.Dataset.from_tensor_slices(test_paths)\n",
        "image_ds = path_ds.map(load_and_preprocess_image, num_parallel_calls=AUTOTUNE)\n",
        "label_ds = tf.data.Dataset.from_tensor_slices(tf.cast(test_labels, tf.int64))\n",
        "image_label_ds = tf.data.Dataset.zip((image_ds, label_ds))\n",
        "test_ds = image_label_ds.cache().batch(BATCH_SIZE)"
      ],
      "execution_count": 0,
      "outputs": []
    },
    {
      "cell_type": "markdown",
      "metadata": {
        "id": "4CWKa6YmaAYJ",
        "colab_type": "text"
      },
      "source": [
        "### Finally, we have a fast pipeline ready to go, written from scratch\n",
        "Now, let's define a model."
      ]
    },
    {
      "cell_type": "markdown",
      "metadata": {
        "id": "3COLSNc89pRl",
        "colab_type": "text"
      },
      "source": [
        "## 1b) Create a simple CNN\n",
        "This is our baseline model, it will not be very accurate. You'll improve it below."
      ]
    },
    {
      "cell_type": "code",
      "metadata": {
        "id": "_GS41XUM98QO",
        "colab_type": "code",
        "colab": {}
      },
      "source": [
        "# Basic model\n",
        "# model = models.Sequential()\n",
        "# model.add(layers.Conv2D(16, (3, 3), activation='relu', \n",
        "#                         input_shape=(IMG_SIZE, IMG_SIZE, 3)))\n",
        "# model.add(layers.MaxPooling2D())\n",
        "# model.add(layers.Flatten())\n",
        "# model.add(layers.Dense(5, activation='softmax'))\n",
        "# model.compile(optimizer='adam',\n",
        "#               loss='sparse_categorical_crossentropy',\n",
        "#               metrics=['accuracy'])\n",
        "# history = model.fit(train_ds, validation_data=test_ds, epochs=50)"
      ],
      "execution_count": 0,
      "outputs": []
    },
    {
      "cell_type": "markdown",
      "metadata": {
        "id": "qLm40HMqS_Wh",
        "colab_type": "text"
      },
      "source": [
        "### Tip: pay attention to the size of the model\n",
        "Later, when you export a model to run in the webpage, you will want a small one (in terms of the number of parameters) that downloads quickly. Notice how much more efficient convolutional layers are than the dense layers (ask yourself,why?)"
      ]
    },
    {
      "cell_type": "markdown",
      "metadata": {
        "id": "pX7TsjJZU8OL",
        "colab_type": "text"
      },
      "source": [
        "### Tip: pay attention to exactly how your images are preprocessed\n",
        "Later, when you run your model in a browser, you'll need to preprocess images in JavaScript in exactly the same way."
      ]
    },
    {
      "cell_type": "markdown",
      "metadata": {
        "id": "vqSkDOWiatnY",
        "colab_type": "text"
      },
      "source": [
        "### Make predictions on a single image\n",
        "Tip: models are implemented to make predictions on batches of images for efficiency. This means that to make a prediction on a single image, you'll need to first wrap it in a batch. The syntax can feel a little unusual at first, but gets easier with time."
      ]
    },
    {
      "cell_type": "code",
      "metadata": {
        "id": "GtiTdJm3-yrS",
        "colab_type": "code",
        "colab": {}
      },
      "source": [
        "# # load an image off disk\n",
        "# img_index = 0\n",
        "# img = load_and_preprocess_image(train_paths[img_index])\n",
        "\n",
        "# print(img.shape) # before\n",
        "\n",
        "# #########\n",
        "# ## TODO: your code here\n",
        "# ## use tf.expand_dims to create an empty batch dimension\n",
        "# ## the starting image shape is (192, 192, 3)\n",
        "# ## you want it to be (1, 192, 192, 3)\n",
        "# ## that's read as \"a batch of 1 image, with 192 rows, 192 cols, \n",
        "# ## and 3 color channels\"\n",
        "# #########\n",
        "# im_batch = tf.expand_dims(img, axis=0) # YOUR CODE HERE, use tf.expand_dims\n",
        "\n",
        "# print(im_batch.shape) # after\n",
        "\n",
        "# # make predictions\n",
        "# batch_pred = model.predict(im_batch) # returns a list of predictions\n",
        "# pred = batch_pred[0] \n",
        "\n",
        "# print(\"Prediction\", label_names[tf.argmax(pred)])\n",
        "# print(\"Actual\", label_names[train_labels[img_index]])"
      ],
      "execution_count": 0,
      "outputs": []
    },
    {
      "cell_type": "markdown",
      "metadata": {
        "id": "UDiBS04Q_rRL",
        "colab_type": "text"
      },
      "source": [
        "### TODO: Improve accuracy\n",
        "In the code cell below, write a new model that's more accurate than the baseline above. Define and train your model, and create plots of loss / accuracy as a function of epochs. Try to train your model to high accuracy, without overfitting. For this assignment, it is not necessary to build a super accurate model (just experiment a bit and try to improve over the baseline)."
      ]
    },
    {
      "cell_type": "code",
      "metadata": {
        "id": "AuuLJJszDAy1",
        "colab_type": "code",
        "colab": {}
      },
      "source": [
        "########## Use subclassing API ##########\n",
        "# from tensorflow import keras\n",
        "# # @tf.function()\n",
        "\n",
        "# # Make a custom block of convoluation, batch norm and drop out\n",
        "# class ConvAndMaxPoolBlock(keras.layers.Layer):\n",
        "#  def __init__(self, n_channel=32, kernel_size = (2, 2), activation='relu',\n",
        "#               l2_weight=0.01, drop_out_rate=0.2, pool_size=(2,2), **kwargs):\n",
        "#    super().__init__(**kwargs)\n",
        "#    self.n_channel = n_channel\n",
        "#    self.conv_layer = keras.layers.Conv2D(filters=n_channel, kernel_size=kernel_size, kernel_regularizer=keras.regularizers.l2(l2_weight))\n",
        "#    self.batch_norm_layer = keras.layers.BatchNormalization()\n",
        "#    self.activation_layer = keras.layers.Activation(activation)\n",
        "#    self.dropout_layer = keras.layers.Dropout(drop_out_rate)\n",
        "#    self.maxpool_layer = keras.layers.MaxPool2D(pool_size=pool_size)\n",
        "\n",
        "#  def call(self, inputs):\n",
        "#    Z = inputs\n",
        "#    Z = self.conv_layer(Z)\n",
        "#    Z = self.batch_norm_layer(Z)\n",
        "#    Z = self.activation_layer(Z)\n",
        "#    Z = self.dropout_layer(Z)\n",
        "#    Z = self.maxpool_layer(Z)\n",
        "#    return Z\n",
        "\n",
        "#  def get_config(self):                                               \n",
        "#    base_config = super().get_config()                              \n",
        "#    return {**base_config,                                          \n",
        "#             \"n_channels\": self.n_channel}\n",
        "\n",
        "# # Make a custom model\n",
        "# class MyCustomModel(keras.Model):\n",
        "#   def __init__(self, output_dim, l2_weight, drop_out_rate, **kwargs):\n",
        "#     super().__init__(**kwargs)\n",
        "#     self.output_dim = output_dim\n",
        "#     self.block1 = ConvAndMaxPoolBlock(n_channel=32, kernel_size = (3, 3), activation='relu', l2_weight=l2_weight, drop_out_rate=drop_out_rate, pool_size=(2,2))\n",
        "#     self.block2 = ConvAndMaxPoolBlock(n_channel=64, kernel_size = (5, 5), activation='relu', l2_weight=l2_weight, drop_out_rate=drop_out_rate, pool_size=(2,2))\n",
        "#     self.block3 = ConvAndMaxPoolBlock(n_channel=128, kernel_size = (7, 7), activation='relu', l2_weight=l2_weight, drop_out_rate=drop_out_rate, pool_size=(2,2))\n",
        "#     self.block4 = ConvAndMaxPoolBlock(n_channel=256, kernel_size = (9, 9), activation='relu', l2_weight=l2_weight, drop_out_rate=drop_out_rate, pool_size=(2,2))    \n",
        "#     self.flatten_layer = keras.layers.Flatten()\n",
        "#     self.globpool_layer = keras.layers.GlobalAveragePooling2D()\n",
        "#     self.out_layer = keras.layers.Dense(output_dim, activation='softmax')\n",
        "\n",
        "#   def call(self, inputs):\n",
        "#     Z = inputs\n",
        "#     Z = self.block1(Z)\n",
        "#     Z = self.block2(Z)\n",
        "#     Z = self.block3(Z)\n",
        "#     Z = self.block4(Z)\n",
        "#     Z = self.globpool_layer(Z)\n",
        "#     return self.out_layer(Z)\n",
        "\n",
        "#   def get_config(self):                                           \n",
        "#     base_config = super().get_config()                           \n",
        "#     return {**base_config,                                       \n",
        "#             \"output_dim\": self.output_dim}    \n",
        "\n",
        "# # Create the model\n",
        "# drop_out_rate = 0.\n",
        "# l2_weight = 0.0\n",
        "# model = MyCustomModel(output_dim=5, l2_weight=l2_weight, drop_out_rate=drop_out_rate)\n",
        "\n",
        "\n",
        "# # Compile the model\n",
        "# early_stopping_cb = keras.callbacks.EarlyStopping(patience=100,\n",
        "#                                                   restore_best_weights=True)\n",
        "# model.compile(optimizer='adam',\n",
        "#               loss='sparse_categorical_crossentropy',\n",
        "#               metrics=['accuracy'])\n",
        "\n",
        "# # Train the model\n",
        "# history = model.fit(train_ds, validation_data=test_ds, epochs=100, callbacks=[early_stopping_cb])"
      ],
      "execution_count": 0,
      "outputs": []
    },
    {
      "cell_type": "code",
      "metadata": {
        "id": "sjRwwTh0gjw-",
        "colab_type": "code",
        "colab": {}
      },
      "source": [
        "########## Use sequential API ##########\n",
        "from tensorflow import keras\n",
        "\n",
        "# Construct a sequential CNN\n",
        "model = keras.models.Sequential()\n",
        "model.add(keras.layers.Conv2D(filters=32, kernel_size=(3, 3)))\n",
        "model.add(keras.layers.BatchNormalization())\n",
        "model.add(keras.layers.Activation(\"relu\"))\n",
        "model.add(keras.layers.MaxPooling2D(pool_size=(2,2)))\n",
        "model.add(keras.layers.Conv2D(filters=64, kernel_size=(5, 5)))\n",
        "model.add(keras.layers.BatchNormalization())\n",
        "model.add(keras.layers.Activation(\"relu\"))\n",
        "model.add(keras.layers.MaxPooling2D(pool_size=(2,2)))\n",
        "model.add(keras.layers.Conv2D(filters=128, kernel_size=(7, 7)))\n",
        "model.add(keras.layers.BatchNormalization())\n",
        "model.add(keras.layers.Activation(\"relu\"))\n",
        "model.add(keras.layers.MaxPooling2D(pool_size=(2,2)))\n",
        "model.add(keras.layers.Conv2D(filters=256, kernel_size=(9, 9)))\n",
        "model.add(keras.layers.BatchNormalization())\n",
        "model.add(keras.layers.Activation(\"relu\"))\n",
        "model.add(keras.layers.MaxPooling2D(pool_size=(2,2)))\n",
        "# model.add(keras.layers.Flatten())\n",
        "model.add(keras.layers.GlobalAveragePooling2D())\n",
        "model.add(keras.layers.Dense(10, activation=\"softmax\"))  \n",
        "\n",
        "# Compile the model\n",
        "early_stopping_cb = keras.callbacks.EarlyStopping(patience=200,\n",
        "                                                  restore_best_weights=True)\n",
        "model.compile(optimizer='adam',\n",
        "              loss='sparse_categorical_crossentropy',\n",
        "              metrics=['accuracy'])\n",
        "\n",
        "# Train the model\n",
        "history = model.fit(train_ds, validation_data=test_ds, epochs=200, callbacks=[early_stopping_cb])"
      ],
      "execution_count": 0,
      "outputs": []
    },
    {
      "cell_type": "code",
      "metadata": {
        "id": "G-UFlgsoUhIX",
        "colab_type": "code",
        "outputId": "87a6c0bf-bae1-4c4e-aa1a-f80ce18df88a",
        "colab": {
          "base_uri": "https://localhost:8080/",
          "height": 350
        }
      },
      "source": [
        "# A plotting function you can reuse\n",
        "def plot_training(history):\n",
        "  \n",
        "  # The history object contains results on the training and test\n",
        "  # sets for each epoch\n",
        "  acc = history.history['accuracy']\n",
        "  val_acc = history.history['val_accuracy']\n",
        "  loss = history.history['loss']\n",
        "  val_loss = history.history['val_loss']\n",
        "\n",
        "  # Get the number of epochs\n",
        "  epochs = range(len(acc))\n",
        "  fig = plt.figure(figsize=(15, 5))\n",
        "  ax1 = fig.add_subplot(121)\n",
        "  plt.title('Max val accuracy: {0:.4f}'.format(max(val_acc)))\n",
        "  plt.plot(epochs, acc, color='blue', label='Train')\n",
        "  plt.plot(epochs, val_acc, color='orange', label='Val')\n",
        "  plt.xlabel('Epoch')\n",
        "  plt.ylabel('Accuracy')\n",
        "  plt.legend()\n",
        "\n",
        "  ax1 = fig.add_subplot(122)\n",
        "  plt.title('Min val loss: {0:.4f}'.format(min(val_loss)))\n",
        "  plt.plot(epochs, loss, color='blue', label='Train')\n",
        "  plt.plot(epochs, val_loss, color='orange', label='Val')\n",
        "  plt.xlabel('Epoch')\n",
        "  plt.ylabel('Loss')\n",
        "  plt.legend()\n",
        "  \n",
        "plot_training(history)"
      ],
      "execution_count": 0,
      "outputs": [
        {
          "output_type": "display_data",
          "data": {
            "image/png": "[encoded data removed]",
            "text/plain": [
              "<Figure size 1080x360 with 2 Axes>"
            ]
          },
          "metadata": {
            "tags": []
          }
        }
      ]
    },
    {
      "cell_type": "code",
      "metadata": {
        "id": "vursIP-GdOg3",
        "colab_type": "code",
        "colab": {}
      },
      "source": [
        "# plt.savefig('train_noBatchNorm_')"
      ],
      "execution_count": 0,
      "outputs": []
    },
    {
      "cell_type": "markdown",
      "metadata": {
        "id": "Hc3yX-amDMFG",
        "colab_type": "text"
      },
      "source": [
        "## 1c) Practice deploying your flowers classifier using TensorFlow.js\n",
        "In the final part of the assignment, you'll export the model you build to recognize landmarks on Columbia's campus, and get it working in the browser. If you're new to JavaScript (as most of us are), the mechanics will be difficult at first. \n",
        "\n",
        "Let's practice by exporting your flowers classifier, and getting it working with TensorFlow.js (the starter code provided is written to work with flowers model)."
      ]
    },
    {
      "cell_type": "markdown",
      "metadata": {
        "id": "DLVgG2eBDmu6",
        "colab_type": "text"
      },
      "source": [
        "### Save your model"
      ]
    },
    {
      "cell_type": "code",
      "metadata": {
        "id": "dM20AUr4Doqu",
        "colab_type": "code",
        "colab": {}
      },
      "source": [
        "model.save(\"/content/my_model.h5\")"
      ],
      "execution_count": 0,
      "outputs": []
    },
    {
      "cell_type": "code",
      "metadata": {
        "id": "V4ALIsEbLs07",
        "colab_type": "code",
        "colab": {}
      },
      "source": [
        "!ls -lha"
      ],
      "execution_count": 0,
      "outputs": []
    },
    {
      "cell_type": "markdown",
      "metadata": {
        "id": "eCSblyG1J42B",
        "colab_type": "text"
      },
      "source": [
        "### Download your saved model to your local machine"
      ]
    },
    {
      "cell_type": "code",
      "metadata": {
        "id": "hYwiPmqXJ5mf",
        "colab_type": "code",
        "colab": {}
      },
      "source": [
        "from google.colab import files\n",
        "files.download(\"my_model.h5\")"
      ],
      "execution_count": 0,
      "outputs": []
    },
    {
      "cell_type": "markdown",
      "metadata": {
        "id": "itHCUxY3DytP",
        "colab_type": "text"
      },
      "source": [
        "### Visit notebook #2 (a2-2.ipynb on CourseWorks) to convert your saved model into to TensorFlow.js format\n",
        "\n",
        "Follow the instructions there to prepare a webpage to run your flowers model in the browser. Once you have that working, you can continue with the rest of this assignment in this notebook."
      ]
    },
    {
      "cell_type": "markdown",
      "metadata": {
        "id": "tTU9vX0Kcawh",
        "colab_type": "text"
      },
      "source": [
        "## 1d) Classify flowers using transfer learning\n",
        "\n",
        "In this part of the assignment, you'll use transfer learning to take advantage of a large pretrained model. It is not necesary to deploy this part in the browser.\n",
        "\n",
        "\n",
        "Read this tutorial before completing this section:\n",
        "* https://www.tensorflow.org/tutorials/images/transfer_learning"
      ]
    },
    {
      "cell_type": "code",
      "metadata": {
        "id": "kk4pYnFiXuKb",
        "colab_type": "code",
        "colab": {}
      },
      "source": [
        "## TODO: your code here\n",
        "# Choose a pretrained model, and import the application\n",
        "# See https://keras.io/applications/ for a few choices\n",
        "# When you import the model, you will want to remove the \n",
        "# final dense layer that performs classification (include_top=False)\n",
        "# you will also want to import weights from ImageNet,\n",
        "# and you will want to specify the input shape to match your images. \n",
        "\n",
        "base_model = tf.keras.applications.MobileNetV2(input_shape=[IMG_SIZE, IMG_SIZE, 3],\n",
        "                                               include_top=False,\n",
        "                                               weights='imagenet')\n",
        "\n",
        "# freeze all weights\n",
        "base_model.trainable = False \n",
        "global_average_layer = tf.keras.layers.GlobalAveragePooling2D()\n",
        "prediction_layer = tf.keras.layers.Dense(5, activation='softmax')\n",
        "\n",
        "# build a new model reusing the pretrained base\n",
        "model = tf.keras.Sequential([\n",
        "  base_model,\n",
        "  global_average_layer,\n",
        "  prediction_layer\n",
        "])\n",
        "\n",
        "# Compile the model and train the last layer\n",
        "model.compile(optimizer='adam',\n",
        "              loss='sparse_categorical_crossentropy',\n",
        "              metrics=['accuracy'])\n",
        "history = model.fit(train_ds, validation_data=test_ds, epochs=10)"
      ],
      "execution_count": 0,
      "outputs": []
    },
    {
      "cell_type": "code",
      "metadata": {
        "id": "9k_CFl0d-vg2",
        "colab_type": "code",
        "colab": {}
      },
      "source": [
        "# Unfreeze some layers and train everything again\n",
        "model.trainable = True\n",
        "max_layer_freeze = 60\n",
        "for layer in base_model.layers[:max_layer_freeze]:\n",
        "  layer.trainable = False\n",
        "\n",
        "model.compile(optimizer='adam',\n",
        "              loss='sparse_categorical_crossentropy',\n",
        "              metrics=['accuracy'])\n",
        "history = model.fit(train_ds, validation_data=test_ds, epochs=500)"
      ],
      "execution_count": 0,
      "outputs": []
    },
    {
      "cell_type": "code",
      "metadata": {
        "id": "DyU98PrsS4xZ",
        "colab_type": "code",
        "outputId": "2b571d85-1f7c-4752-ba73-10274f34510a",
        "colab": {
          "base_uri": "https://localhost:8080/",
          "height": 350
        }
      },
      "source": [
        "# A plotting function you can reuse\n",
        "def plot_training(history):\n",
        "  \n",
        "  # The history object contains results on the training and test\n",
        "  # sets for each epoch\n",
        "  acc = history.history['accuracy']\n",
        "  val_acc = history.history['val_accuracy']\n",
        "  loss = history.history['loss']\n",
        "  val_loss = history.history['val_loss']\n",
        "\n",
        "  # Get the number of epochs\n",
        "  epochs = range(len(acc))\n",
        "  fig = plt.figure(figsize=(15, 5))\n",
        "  ax1 = fig.add_subplot(121)\n",
        "  plt.title('Max val accuracy: {0:.4f}'.format(max(val_acc)))\n",
        "  plt.plot(epochs, acc, color='blue', label='Train')\n",
        "  plt.plot(epochs, val_acc, color='orange', label='Val')\n",
        "  plt.xlabel('Epoch')\n",
        "  plt.ylabel('Accuracy')\n",
        "  plt.legend()\n",
        "\n",
        "  ax1 = fig.add_subplot(122)\n",
        "  plt.title('Min val loss: {0:.4f}'.format(min(val_loss)))\n",
        "  plt.plot(epochs, loss, color='blue', label='Train')\n",
        "  plt.plot(epochs, val_loss, color='orange', label='Val')\n",
        "  plt.xlabel('Epoch')\n",
        "  plt.ylabel('Loss')\n",
        "  plt.legend()\n",
        "  \n",
        "plot_training(history)"
      ],
      "execution_count": 0,
      "outputs": [
        {
          "output_type": "display_data",
          "data": {
            "image/png": "[encoded data removed]",
            "text/plain": [
              "<Figure size 1080x360 with 2 Axes>"
            ]
          },
          "metadata": {
            "tags": []
          }
        }
      ]
    },
    {
      "cell_type": "markdown",
      "metadata": {
        "id": "bTHrHpf6da5d",
        "colab_type": "text"
      },
      "source": [
        "## 2a) Recognize landmarks on Columbia's campus\n",
        "\n",
        "In this part of the assignment, you will train a model to recognize landmarks (famous places, like the [Alma Mater sculpture](https://en.wikipedia.org/wiki/Alma_Mater_(New_York_sculpture), or Butler library) on Columbia’s campus. Instead of tf.data, you will gain experience with the higher level Keras utilties. You will also experiment with data augmentation to increase the effective size of your dataset.\n",
        "\n",
        "Starter code is not provided for this part of the assignment. You should base your work off the following Keras notebook, which works identically in TF2 (the only thing you'll need to change is the imports, an example of correct imports is given below).\n",
        "\n",
        "* https://github.com/fchollet/deep-learning-with-python-notebooks/blob/master/5.2-using-convnets-with-small-datasets.ipynb\n",
        "\n",
        "Here are steps you should complete.\n",
        "\n",
        "1. Collect a dataset of at least three landmarks. Your dataset should include at least 50 images of each landmark in train, and 50 in validation (using more images is fine). Randomly shuffle your data to create these splits. You do not need to use a separate test set in this assignment.\n",
        "\n",
        " You will need to upload your dataset to Colab in order to train a model. To do so, you can either upload it using the file browser (slow and tedious, you'll need to repeat that if your runtime is reset), or (better) you can upload your dataset to Google Drive, then mount your drive as a filesystem in Colab (View -> Table of contents -> Code snippets -> search for \"drive\"). This will enable you to access the contents of your drive with commands like `!ls /gdrive`. As a another option, you could upload your dataset to a cloud provider or your Columbia account, then download it similarly to flowers at the top of this notebook.\n",
        " \n",
        "1. Write a model to classify your data. Try to train a small model in terms of the number of parameters (you do not need to use transfer learning). \n",
        "\n",
        "1. Show predictions on several images.\n",
        "\n",
        "1. Use data augmentation, see if this helps to improve accuracy.\n",
        "\n",
        "1. Produce plots of accuracy / loss as a function of epochs. Determine the right place to stop training without overfitting.\n",
        "\n",
        "When you have a reasonably accurate model, proceed to the next step. There are no guidelines for accuracy, try to build something you feel works well, given the small amount of data you have."
      ]
    },
    {
      "cell_type": "code",
      "metadata": {
        "id": "hDfkcDbzHjsl",
        "colab_type": "code",
        "colab": {}
      },
      "source": [
        "# Example code showing the correct imports\n",
        "from tensorflow.keras.preprocessing.image import ImageDataGenerator\n",
        "\n",
        "# Example code:\n",
        "# You should use the keras preprocessing utilities here instead of tf.data\n",
        "# Here's an example of how to use them with the flowers dataset\n",
        "# You will need to add data augmentation\n",
        "train_datagen = ImageDataGenerator(rescale=1./255)\n",
        "train_generator = train_datagen.flow_from_directory(\n",
        "        data_root,\n",
        "        target_size=(IMG_SIZE, IMG_SIZE),\n",
        "        batch_size=32)\n",
        "\n",
        "for data_batch, labels_batch in train_generator:\n",
        "    print('data batch shape:', data_batch.shape)\n",
        "    print('labels batch shape:', labels_batch.shape)\n",
        "    break\n",
        "\n",
        "###\n",
        "# TODO: your code for 2a here.\n",
        "###\n"
      ],
      "execution_count": 0,
      "outputs": []
    },
    {
      "cell_type": "markdown",
      "metadata": {
        "id": "aUf9FFXa80E4",
        "colab_type": "text"
      },
      "source": [
        "## 2b) Run your model in the browser\n",
        "Save and download your model, and head to notebook two again. After you've finished creating a webpage, upload it to GitHub Pages (or your Columbia account), list the URL here, save your assignment, and submit your assignment. You may not need to make many changes to the starter code, but pay attention to the preprocessing, number of output classes, image size, etc."
      ]
    },
    {
      "cell_type": "code",
      "metadata": {
        "id": "PM92lOOES3IM",
        "colab_type": "code",
        "colab": {}
      },
      "source": [
        ""
      ],
      "execution_count": 0,
      "outputs": []
    },
    {
      "cell_type": "code",
      "metadata": {
        "id": "gCAdQMFo86Gc",
        "colab_type": "code",
        "colab": {}
      },
      "source": [
        "# TODO: list your URL here. \n",
        "# If you are unable to get it working in GitHub pages, you can also \n",
        "# submit a screenshot of your model running locally in a browser for\n",
        "# partial credit.\n",
        "# http://your_webpage"
      ],
      "execution_count": 0,
      "outputs": []
    }
  ]
}
