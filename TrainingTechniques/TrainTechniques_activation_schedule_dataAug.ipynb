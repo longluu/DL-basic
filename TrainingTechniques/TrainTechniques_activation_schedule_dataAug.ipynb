{
  "nbformat": 4,
  "nbformat_minor": 0,
  "metadata": {
    "colab": {
      "name": "TrainTechniques_activation_schedule_dataAug.ipynb",
      "provenance": [],
      "collapsed_sections": []
    },
    "kernelspec": {
      "name": "python3",
      "display_name": "Python 3"
    },
    "accelerator": "GPU"
  },
  "cells": [
    {
      "cell_type": "code",
      "metadata": {
        "id": "aLcLH4Cb5B0V",
        "colab_type": "code",
        "outputId": "9b1fac45-6774-41e5-fd72-16bfe96085f3",
        "colab": {
          "base_uri": "https://localhost:8080/",
          "height": 50
        }
      },
      "source": [
        "%tensorflow_version 2.x\n",
        "import tensorflow as tf\n",
        "from tensorflow import keras\n",
        "print(tf.__version__)"
      ],
      "execution_count": 0,
      "outputs": [
        {
          "output_type": "stream",
          "text": [
            "TensorFlow 2.x selected.\n",
            "2.1.0\n"
          ],
          "name": "stdout"
        }
      ]
    },
    {
      "cell_type": "code",
      "metadata": {
        "id": "ISg-tXeTCyjN",
        "colab_type": "code",
        "colab": {}
      },
      "source": [
        "# Load MNIST\n",
        "(X_train_full, y_train_full), (X_test, y_test) = keras.datasets.fashion_mnist.load_data()\n",
        "X_train_full = X_train_full / 255.0\n",
        "X_test = X_test / 255.0\n",
        "X_valid, X_train = X_train_full[:5000], X_train_full[5000:]\n",
        "y_valid, y_train = y_train_full[:5000], y_train_full[5000:]\n",
        "pixel_means = X_train.mean(axis=0, keepdims=True)\n",
        "pixel_stds = X_train.std(axis=0, keepdims=True)\n",
        "X_train_scaled = (X_train - pixel_means) / pixel_stds\n",
        "X_valid_scaled = (X_valid - pixel_means) / pixel_stds\n",
        "X_test_scaled = (X_test - pixel_means) / pixel_stds"
      ],
      "execution_count": 0,
      "outputs": []
    },
    {
      "cell_type": "code",
      "metadata": {
        "id": "qmJ08hnODexX",
        "colab_type": "code",
        "colab": {}
      },
      "source": [
        "# Leaky ReLU\n",
        "model = keras.models.Sequential()\n",
        "model.add(keras.layers.Flatten(input_shape=[28, 28]))\n",
        "model.add(keras.layers.Dense(300, kernel_initializer=\"he_normal\"))\n",
        "model.add(keras.layers.LeakyReLU())\n",
        "model.add(keras.layers.Dense(100, kernel_initializer=\"he_normal\"))\n",
        "model.add(keras.layers.LeakyReLU())\n",
        "model.add(keras.layers.Dense(10, activation=\"softmax\"))\n",
        "\n",
        "model.compile(loss=\"sparse_categorical_crossentropy\",\n",
        "              optimizer=keras.optimizers.SGD(lr=1e-3),\n",
        "              metrics=[\"accuracy\"])\n",
        "\n",
        "history = model.fit(X_train, y_train, epochs=50,\n",
        "                    validation_data=(X_valid, y_valid))\n"
      ],
      "execution_count": 0,
      "outputs": []
    },
    {
      "cell_type": "code",
      "metadata": {
        "id": "G9Boj06qF9Qj",
        "colab_type": "code",
        "colab": {}
      },
      "source": [
        "# PReLU\n",
        "model = keras.models.Sequential()\n",
        "model.add(keras.layers.Flatten(input_shape=[28, 28]))\n",
        "model.add(keras.layers.Dense(300, kernel_initializer=\"he_normal\"))\n",
        "model.add(keras.layers.PReLU())\n",
        "model.add(keras.layers.Dense(100, kernel_initializer=\"he_normal\"))\n",
        "model.add(keras.layers.PReLU())\n",
        "model.add(keras.layers.Dense(10, activation=\"softmax\"))\n",
        "\n",
        "model.compile(loss=\"sparse_categorical_crossentropy\",\n",
        "              optimizer=keras.optimizers.SGD(lr=1e-3),\n",
        "              metrics=[\"accuracy\"])\n",
        "\n",
        "history = model.fit(X_train, y_train, epochs=10,\n",
        "                    validation_data=(X_valid, y_valid))\n"
      ],
      "execution_count": 0,
      "outputs": []
    },
    {
      "cell_type": "code",
      "metadata": {
        "id": "8pifMxWYHbQd",
        "colab_type": "code",
        "colab": {}
      },
      "source": [
        "# ELU\n",
        "model = keras.models.Sequential()\n",
        "model.add(keras.layers.Flatten(input_shape=[28, 28]))\n",
        "model.add(keras.layers.Dense(300, activation=\"elu\"))\n",
        "model.add(keras.layers.Dense(100, activation=\"elu\"))\n",
        "model.add(keras.layers.Dense(10, activation=\"softmax\"))\n",
        "\n",
        "model.compile(loss=\"sparse_categorical_crossentropy\",\n",
        "              optimizer=keras.optimizers.SGD(lr=1e-3),\n",
        "              metrics=[\"accuracy\"])\n",
        "\n",
        "history = model.fit(X_train, y_train, epochs=10,\n",
        "                    validation_data=(X_valid, y_valid))"
      ],
      "execution_count": 0,
      "outputs": []
    },
    {
      "cell_type": "code",
      "metadata": {
        "id": "NaeGEMUnH6BG",
        "colab_type": "code",
        "colab": {}
      },
      "source": [
        "# SELU with 100 layers\n",
        "model = keras.models.Sequential()\n",
        "model.add(keras.layers.Flatten(input_shape=[28, 28]))\n",
        "model.add(keras.layers.Dense(300, activation=\"selu\",\n",
        "                             kernel_initializer=\"lecun_normal\"))\n",
        "for layer in range(99):\n",
        "    model.add(keras.layers.Dense(100, activation=\"selu\",\n",
        "                                 kernel_initializer=\"lecun_normal\"))\n",
        "model.add(keras.layers.Dense(10, activation=\"softmax\"))\n",
        "\n",
        "\n",
        "model.compile(loss=\"sparse_categorical_crossentropy\",\n",
        "              optimizer=keras.optimizers.SGD(lr=1e-3),\n",
        "              metrics=[\"accuracy\"])\n",
        "\n",
        "# Standardize the input\n",
        "pixel_means = X_train.mean(axis=0, keepdims=True)\n",
        "pixel_stds = X_train.std(axis=0, keepdims=True)\n",
        "X_train_scaled = (X_train - pixel_means) / pixel_stds\n",
        "X_valid_scaled = (X_valid - pixel_means) / pixel_stds\n",
        "X_test_scaled = (X_test - pixel_means) / pixel_stds\n",
        "\n",
        "\n",
        "history = model.fit(X_train_scaled, y_train, epochs=100,\n",
        "                    validation_data=(X_valid_scaled, y_valid))"
      ],
      "execution_count": 0,
      "outputs": []
    },
    {
      "cell_type": "code",
      "metadata": {
        "id": "un2csKDMhmtj",
        "colab_type": "code",
        "colab": {}
      },
      "source": [
        "# Swish activation\n",
        "from keras import backend as K\n",
        "import numpy as np\n",
        "\n",
        "def swish_activation(x, beta=1):\n",
        "  return x * K.sigmoid(beta*x)\n",
        "\n",
        "import matplotlib.pyplot as plt\n",
        "\n",
        "# Test the swish function\n",
        "beta = 0.8\n",
        "x = np.linspace(-5, 5, 100)\n",
        "y = swish_activation(x, beta)\n",
        "\n",
        "plt.figure()\n",
        "plt.plot(x, y)"
      ],
      "execution_count": 0,
      "outputs": []
    },
    {
      "cell_type": "code",
      "metadata": {
        "id": "DLzvlUQovrKD",
        "colab_type": "code",
        "colab": {}
      },
      "source": [
        "# Batch normalization\n",
        "model = keras.models.Sequential([\n",
        "    keras.layers.Flatten(input_shape=[28, 28]),\n",
        "    keras.layers.BatchNormalization(),\n",
        "    keras.layers.Dense(300, activation=\"relu\"),\n",
        "    keras.layers.BatchNormalization(),\n",
        "    keras.layers.Dense(100, activation=\"relu\"),\n",
        "    keras.layers.BatchNormalization(),\n",
        "    keras.layers.Dense(10, activation=\"softmax\")\n",
        "])\n",
        "\n",
        "model.compile(loss=\"sparse_categorical_crossentropy\",\n",
        "              optimizer=keras.optimizers.SGD(lr=1e-3),\n",
        "              metrics=[\"accuracy\"])\n",
        "history = model.fit(X_train, y_train, epochs=50,\n",
        "                    validation_data=(X_valid, y_valid))"
      ],
      "execution_count": 0,
      "outputs": []
    },
    {
      "cell_type": "code",
      "metadata": {
        "id": "nG3pFiY3wAQB",
        "colab_type": "code",
        "colab": {}
      },
      "source": [
        "# Batch normalization (before activation function)\n",
        "model = keras.models.Sequential([\n",
        "    keras.layers.Flatten(input_shape=[28, 28]),\n",
        "    keras.layers.BatchNormalization(),\n",
        "    keras.layers.Dense(300, use_bias=False),\n",
        "    keras.layers.BatchNormalization(),\n",
        "    keras.layers.Activation(\"relu\"),\n",
        "    keras.layers.Dense(100, use_bias=False),\n",
        "    keras.layers.Activation(\"relu\"),\n",
        "    keras.layers.BatchNormalization(),\n",
        "    keras.layers.Dense(10, activation=\"softmax\")\n",
        "])\n",
        "\n",
        "model.compile(loss=\"sparse_categorical_crossentropy\",\n",
        "              optimizer=keras.optimizers.SGD(lr=1e-2),\n",
        "              metrics=[\"accuracy\"])\n",
        "history = model.fit(X_train, y_train, epochs=50,\n",
        "                    validation_data=(X_valid, y_valid))"
      ],
      "execution_count": 0,
      "outputs": []
    },
    {
      "cell_type": "code",
      "metadata": {
        "id": "y2ghXoyP1jOh",
        "colab_type": "code",
        "colab": {}
      },
      "source": [
        "### Reuse pretrained net\n",
        "import numpy as np\n",
        "\n",
        "# Split the dataset\n",
        "def split_dataset(X, y):\n",
        "    y_5_or_6 = (y == 5) | (y == 6) # sandals or shirts\n",
        "    y_A = y[~y_5_or_6]\n",
        "    y_A[y_A > 6] -= 2 # class indices 7, 8, 9 should be moved to 5, 6, 7\n",
        "    y_B = (y[y_5_or_6] == 6).astype(np.float32) # binary classification task: is it a shirt (class 6)?\n",
        "    return ((X[~y_5_or_6], y_A),\n",
        "            (X[y_5_or_6], y_B))\n",
        "\n",
        "(X_train_A, y_train_A), (X_train_B, y_train_B) = split_dataset(X_train, y_train)\n",
        "(X_valid_A, y_valid_A), (X_valid_B, y_valid_B) = split_dataset(X_valid, y_valid)\n",
        "(X_test_A, y_test_A), (X_test_B, y_test_B) = split_dataset(X_test, y_test)\n",
        "X_train_B = X_train_B[:200]\n",
        "y_train_B = y_train_B[:200]\n",
        "\n",
        "# Model A\n",
        "model_A = keras.models.Sequential()\n",
        "model_A.add(keras.layers.Flatten(input_shape=[28, 28]))\n",
        "for n_hidden in (300, 100, 50, 50, 50):\n",
        "    model_A.add(keras.layers.Dense(n_hidden, activation=\"selu\"))\n",
        "model_A.add(keras.layers.Dense(8, activation=\"softmax\"))\n",
        "\n",
        "model_A.compile(loss=\"sparse_categorical_crossentropy\",\n",
        "                optimizer=keras.optimizers.SGD(lr=1e-3),\n",
        "                metrics=[\"accuracy\"])\n",
        "\n",
        "history = model_A.fit(X_train_A, y_train_A, epochs=20,\n",
        "                    validation_data=(X_valid_A, y_valid_A))"
      ],
      "execution_count": 0,
      "outputs": []
    },
    {
      "cell_type": "code",
      "metadata": {
        "id": "TNrlv0l12qBn",
        "colab_type": "code",
        "colab": {}
      },
      "source": [
        "# Model B, reuse model A\n",
        "model_B_on_A = keras.models.Sequential(model_A.layers[:-1])\n",
        "model_B_on_A.add(keras.layers.Dense(1, activation=\"sigmoid\"))\n",
        "\n",
        "# Freeze all layers and train a bit to have stable weights\n",
        "for layer in model_B_on_A.layers[:-1]:\n",
        "    layer.trainable = False\n",
        "\n",
        "model_B_on_A.compile(loss=\"binary_crossentropy\",\n",
        "                     optimizer=keras.optimizers.SGD(lr=1e-3),\n",
        "                     metrics=[\"accuracy\"])\n",
        "history = model_B_on_A.fit(X_train_B, y_train_B, epochs=4,\n",
        "                           validation_data=(X_valid_B, y_valid_B))\n",
        "\n",
        "# Unfreeze and train\n",
        "for layer in model_B_on_A.layers[:-1]:\n",
        "    layer.trainable = True\n",
        "\n",
        "model_B_on_A.compile(loss=\"binary_crossentropy\",\n",
        "                     optimizer=keras.optimizers.SGD(lr=1e-3),\n",
        "                     metrics=[\"accuracy\"])\n",
        "history = model_B_on_A.fit(X_train_B, y_train_B, epochs=16,\n",
        "                           validation_data=(X_valid_B, y_valid_B))"
      ],
      "execution_count": 0,
      "outputs": []
    },
    {
      "cell_type": "code",
      "metadata": {
        "id": "k0yxyf8vnZ-D",
        "colab_type": "code",
        "colab": {}
      },
      "source": [
        "# Baseline scheduling\n",
        "model = keras.models.Sequential([\n",
        "    keras.layers.Flatten(input_shape=[28, 28]),\n",
        "    keras.layers.Dense(300, activation=\"selu\", kernel_initializer=\"lecun_normal\"),\n",
        "    keras.layers.Dense(100, activation=\"selu\", kernel_initializer=\"lecun_normal\"),\n",
        "    keras.layers.Dense(10, activation=\"softmax\")\n",
        "])\n",
        "model.compile(loss=\"sparse_categorical_crossentropy\", optimizer=\"nadam\", metrics=[\"accuracy\"])\n",
        "n_epochs = 20\n",
        "\n",
        "history = model.fit(X_train_scaled, y_train, epochs=n_epochs,\n",
        "                    validation_data=(X_valid_scaled, y_valid))"
      ],
      "execution_count": 0,
      "outputs": []
    },
    {
      "cell_type": "code",
      "metadata": {
        "id": "O-iDsB2Qo3uX",
        "colab_type": "code",
        "colab": {}
      },
      "source": [
        "# Exponential scheduling\n",
        "def exponential_decay(lr0, s):\n",
        "    def exponential_decay_fn(epoch):\n",
        "        return lr0 * 0.1**(epoch / s)\n",
        "    return exponential_decay_fn\n",
        "\n",
        "exponential_decay_fn = exponential_decay(lr0=0.001, s=20)\n",
        "model = keras.models.Sequential([\n",
        "    keras.layers.Flatten(input_shape=[28, 28]),\n",
        "    keras.layers.Dense(300, activation=\"selu\", kernel_initializer=\"lecun_normal\"),\n",
        "    keras.layers.Dense(100, activation=\"selu\", kernel_initializer=\"lecun_normal\"),\n",
        "    keras.layers.Dense(10, activation=\"softmax\")\n",
        "])\n",
        "model.compile(loss=\"sparse_categorical_crossentropy\", optimizer=\"nadam\", metrics=[\"accuracy\"])\n",
        "n_epochs = 20\n",
        "\n",
        "lr_scheduler = keras.callbacks.LearningRateScheduler(exponential_decay_fn)\n",
        "history = model.fit(X_train_scaled, y_train, epochs=n_epochs,\n",
        "                    validation_data=(X_valid_scaled, y_valid),\n",
        "                    callbacks=[lr_scheduler])"
      ],
      "execution_count": 0,
      "outputs": []
    },
    {
      "cell_type": "code",
      "metadata": {
        "id": "TeVhoI2Wr1ZG",
        "colab_type": "code",
        "colab": {}
      },
      "source": [
        "# Performance scheduling\n",
        "lr_scheduler = keras.callbacks.ReduceLROnPlateau(factor=0.5, patience=5)\n",
        "\n",
        "model = keras.models.Sequential([\n",
        "    keras.layers.Flatten(input_shape=[28, 28]),\n",
        "    keras.layers.Dense(300, activation=\"selu\", kernel_initializer=\"lecun_normal\"),\n",
        "    keras.layers.Dense(100, activation=\"selu\", kernel_initializer=\"lecun_normal\"),\n",
        "    keras.layers.Dense(10, activation=\"softmax\")\n",
        "])\n",
        "model.compile(loss=\"sparse_categorical_crossentropy\", optimizer=\"nadam\", metrics=[\"accuracy\"])\n",
        "n_epochs = 20\n",
        "history = model.fit(X_train_scaled, y_train, epochs=n_epochs,\n",
        "                    validation_data=(X_valid_scaled, y_valid),\n",
        "                    callbacks=[lr_scheduler])"
      ],
      "execution_count": 0,
      "outputs": []
    },
    {
      "cell_type": "code",
      "metadata": {
        "id": "nJuewkVh3bIs",
        "colab_type": "code",
        "colab": {}
      },
      "source": [
        "# 1cycle scheduling\n",
        "K = keras.backend\n",
        "class OneCycleScheduler(keras.callbacks.Callback):\n",
        "    def __init__(self, iterations, max_rate, start_rate=None,\n",
        "                 last_iterations=None, last_rate=None):\n",
        "        self.iterations = iterations\n",
        "        self.max_rate = max_rate\n",
        "        self.start_rate = start_rate or max_rate / 10\n",
        "        self.last_iterations = last_iterations or iterations // 10 + 1\n",
        "        self.half_iteration = (iterations - self.last_iterations) // 2\n",
        "        self.last_rate = last_rate or self.start_rate / 1000\n",
        "        self.iteration = 0\n",
        "    def _interpolate(self, iter1, iter2, rate1, rate2):\n",
        "        return ((rate2 - rate1) * (self.iteration - iter1)\n",
        "                / (iter2 - iter1) + rate1)\n",
        "    def on_batch_begin(self, batch, logs):\n",
        "        if self.iteration < self.half_iteration:\n",
        "            rate = self._interpolate(0, self.half_iteration, self.start_rate, self.max_rate)\n",
        "        elif self.iteration < 2 * self.half_iteration:\n",
        "            rate = self._interpolate(self.half_iteration, 2 * self.half_iteration,\n",
        "                                     self.max_rate, self.start_rate)\n",
        "        else:\n",
        "            rate = self._interpolate(2 * self.half_iteration, self.iterations,\n",
        "                                     self.start_rate, self.last_rate)\n",
        "            rate = max(rate, self.last_rate)\n",
        "        self.iteration += 1\n",
        "        K.set_value(self.model.optimizer.lr, rate)\n",
        "model = keras.models.Sequential([\n",
        "    keras.layers.Flatten(input_shape=[28, 28]),\n",
        "    keras.layers.Dense(300, activation=\"selu\", kernel_initializer=\"lecun_normal\"),\n",
        "    keras.layers.Dense(100, activation=\"selu\", kernel_initializer=\"lecun_normal\"),\n",
        "    keras.layers.Dense(10, activation=\"softmax\")\n",
        "])\n",
        "model.compile(loss=\"sparse_categorical_crossentropy\",\n",
        "              optimizer=keras.optimizers.SGD(lr=1e-3),\n",
        "              metrics=[\"accuracy\"])\n",
        "\n",
        "batch_size = 32\n",
        "n_epochs = 20\n",
        "onecycle = OneCycleScheduler(len(X_train) // batch_size * n_epochs, max_rate=0.05)\n",
        "history = model.fit(X_train_scaled, y_train, epochs=n_epochs, batch_size=batch_size,\n",
        "                    validation_data=(X_valid_scaled, y_valid),\n",
        "                    callbacks=[onecycle])"
      ],
      "execution_count": 0,
      "outputs": []
    },
    {
      "cell_type": "code",
      "metadata": {
        "id": "WSpeULxGo_sG",
        "colab_type": "code",
        "colab": {}
      },
      "source": [
        "# l2 regularization\n",
        "from functools import partial\n",
        "\n",
        "RegularizedDense = partial(keras.layers.Dense,\n",
        "                           activation=\"selu\",\n",
        "                           kernel_initializer=\"lecun_normal\",\n",
        "                           kernel_regularizer=keras.regularizers.l2(0.00001))\n",
        "\n",
        "model = keras.models.Sequential([\n",
        "    keras.layers.Flatten(input_shape=[28, 28]),\n",
        "    RegularizedDense(300),\n",
        "    RegularizedDense(100),\n",
        "    RegularizedDense(10, activation=\"softmax\")\n",
        "])\n",
        "model.compile(loss=\"sparse_categorical_crossentropy\", optimizer=\"nadam\", metrics=[\"accuracy\"])\n",
        "n_epochs = 20\n",
        "history = model.fit(X_train_scaled, y_train, epochs=n_epochs,\n",
        "                    validation_data=(X_valid_scaled, y_valid))"
      ],
      "execution_count": 0,
      "outputs": []
    },
    {
      "cell_type": "code",
      "metadata": {
        "id": "QPZVX9AxhzVn",
        "colab_type": "code",
        "colab": {}
      },
      "source": [
        "# Cifar-10\n",
        "# Load the dataset\n",
        "from keras.datasets import cifar10\n",
        "(x_train_full, y_train_full), (x_test, y_test) = cifar10.load_data()\n",
        "x_train = x_train_full[:40000]\n",
        "y_train = y_train_full[:40000]\n",
        "x_validation = x_train_full[40000:] / 255.\n",
        "y_validation = y_train_full[40000:]"
      ],
      "execution_count": 0,
      "outputs": []
    },
    {
      "cell_type": "code",
      "metadata": {
        "id": "-h4N-gQSkiVJ",
        "colab_type": "code",
        "colab": {}
      },
      "source": [
        "######### Use subclassing API to build a network from scratch ##########\n",
        "from tensorflow import keras\n",
        "\n",
        "#### Data augmentation\n",
        "from keras.preprocessing.image import ImageDataGenerator\n",
        "\n",
        "# Create the augmentation generator\n",
        "train_datagen = ImageDataGenerator(\n",
        "    rescale=1./255.,\n",
        "    rotation_range=40,\n",
        "    width_shift_range=0.2,\n",
        "    height_shift_range=0.2,\n",
        "    shear_range=0.2,\n",
        "    zoom_range=0.2,\n",
        "    brightness_range=(0.8, 1.2),\n",
        "    channel_shift_range=0.2,\n",
        "    horizontal_flip=True,)\n",
        "train_datagen.fit(x_train)\n",
        "\n",
        "# Note that the validation data should not be augmented!\n",
        "train_generator = train_datagen.flow(\n",
        "        x_train, y_train,\n",
        "        batch_size=32)\n",
        "\n",
        "# Make a custom block of convoluation, batch norm and drop out\n",
        "class ConvAndMaxPoolBlock(keras.layers.Layer):\n",
        " def __init__(self, input_shape=[], n_channel=32, kernel_size = (2, 2), activation='relu',\n",
        "              l2_weight=0.01, pool_size=(2,2), stride=(1, 1), dropout_rate=0.2, **kwargs):\n",
        "   super().__init__(**kwargs)\n",
        "   self.n_channel = n_channel\n",
        "   self.conv_layer = keras.layers.Conv2D(filters=n_channel, input_shape=input_shape, kernel_size=kernel_size, strides=stride, kernel_regularizer=keras.regularizers.l2(l2_weight), padding='same')\n",
        "   self.batch_norm_layer = keras.layers.BatchNormalization()\n",
        "   self.dropout_layer = keras.layers.Dropout(rate=dropout_rate)\n",
        "   self.activation_layer = keras.layers.Activation(activation)\n",
        "   self.maxpool_layer = keras.layers.MaxPool2D(pool_size=pool_size)\n",
        "\n",
        " def call(self, inputs):\n",
        "   Z = inputs\n",
        "   Z = self.conv_layer(Z)\n",
        "   Z = self.batch_norm_layer(Z)\n",
        "   Z = self.activation_layer(Z)\n",
        "   Z = self.dropout_layer(Z)\n",
        "   Z = self.maxpool_layer(Z)\n",
        "   return Z\n",
        "\n",
        " def get_config(self):                                               \n",
        "   base_config = super().get_config()                              \n",
        "   return {**base_config,                                          \n",
        "            \"n_channels\": self.n_channel}\n",
        "\n",
        "# Make a custom model\n",
        "class MyCustomModel(keras.Model):\n",
        "  def __init__(self, input_shape, output_dim, l2_weight, dropout_rate, **kwargs):\n",
        "    super().__init__(**kwargs)\n",
        "    self.output_dim = output_dim\n",
        "    self.block1 = ConvAndMaxPoolBlock(n_channel=32, input_shape = input_shape, kernel_size = (3, 3), activation='relu', l2_weight=l2_weight, dropout_rate=dropout_rate, pool_size=(2,2))\n",
        "    self.block2 = ConvAndMaxPoolBlock(n_channel=64, kernel_size = (5, 5), activation='relu', l2_weight=l2_weight, dropout_rate=dropout_rate, pool_size=(2,2))\n",
        "    self.block3 = ConvAndMaxPoolBlock(n_channel=128, kernel_size = (7, 7), activation='relu', l2_weight=l2_weight, dropout_rate=dropout_rate, pool_size=(2,2))\n",
        "    self.block4 = ConvAndMaxPoolBlock(n_channel=256, kernel_size = (9, 9), activation='relu', l2_weight=l2_weight, dropout_rate=dropout_rate, pool_size=(2,2))    \n",
        "    self.globpool_layer = keras.layers.GlobalAveragePooling2D()\n",
        "    self.out_layer = keras.layers.Dense(output_dim, activation='softmax')\n",
        "\n",
        "  def call(self, inputs):\n",
        "    Z = inputs\n",
        "    Z = self.block1(Z)\n",
        "    Z = self.block2(Z)\n",
        "    Z = self.block3(Z)\n",
        "    Z = self.block4(Z)\n",
        "    Z = self.globpool_layer(Z)\n",
        "    return self.out_layer(Z)\n",
        "\n",
        "  def get_config(self):                                           \n",
        "    base_config = super().get_config()                           \n",
        "    return {**base_config,                                       \n",
        "            \"output_dim\": self.output_dim}    \n",
        "\n",
        "# Create the model\n",
        "l2_weight = 0.0\n",
        "dropout_rate = 0.2\n",
        "model = MyCustomModel(input_shape=x_train[0].shape, output_dim=10, l2_weight=l2_weight, dropout_rate=dropout_rate)\n",
        "\n",
        "\n",
        "# Compile the model\n",
        "early_stopping_cb = keras.callbacks.EarlyStopping(patience=200, restore_best_weights=True, monitor='val_loss')\n",
        "model.compile(optimizer='adam',\n",
        "              loss='sparse_categorical_crossentropy',\n",
        "              metrics=['accuracy'])\n",
        "\n",
        "# Train the model with augmentation\n",
        "history = model.fit(\n",
        "      train_generator,\n",
        "      steps_per_epoch=x_train.shape[0] / 32,\n",
        "      epochs=100,\n",
        "      validation_data=(x_validation, y_validation), \n",
        "      callbacks=[early_stopping_cb])\n",
        "\n",
        "# Train without augmentation\n",
        "# history = model.fit(x_train, y_train, validation_data=(x_validation, y_validation), epochs=100, callbacks=[early_stopping_cb])"
      ],
      "execution_count": 0,
      "outputs": []
    },
    {
      "cell_type": "code",
      "metadata": {
        "id": "fFigUo76GuZD",
        "colab_type": "code",
        "outputId": "90cb6e16-2658-4e33-925a-b246cecaa9ad",
        "colab": {
          "base_uri": "https://localhost:8080/",
          "height": 350
        }
      },
      "source": [
        "# A plotting function you can reuse\n",
        "import matplotlib.pyplot as plt\n",
        "\n",
        "def plot_training(history):\n",
        "  \n",
        "  # The history object contains results on the training and test\n",
        "  # sets for each epoch\n",
        "  acc = history.history['accuracy']\n",
        "  val_acc = history.history['val_accuracy']\n",
        "  loss = history.history['loss']\n",
        "  val_loss = history.history['val_loss']\n",
        "\n",
        "  # Get the number of epochs\n",
        "  epochs = range(len(acc))\n",
        "  fig = plt.figure(figsize=(15, 5))\n",
        "  ax1 = fig.add_subplot(121)\n",
        "  plt.title('Max val accuracy: {0:.4f}'.format(max(val_acc)))\n",
        "  plt.plot(epochs, acc, color='blue', label='Train')\n",
        "  plt.plot(epochs, val_acc, color='orange', label='Val')\n",
        "  plt.xlabel('Epoch')\n",
        "  plt.ylabel('Accuracy')\n",
        "  plt.legend()\n",
        "\n",
        "  ax1 = fig.add_subplot(122)\n",
        "  plt.title('Min val loss: {0:.4f}'.format(min(val_loss)))\n",
        "  plt.plot(epochs, loss, color='blue', label='Train')\n",
        "  plt.plot(epochs, val_loss, color='orange', label='Val')\n",
        "  plt.xlabel('Epoch')\n",
        "  plt.ylabel('Loss')\n",
        "  plt.legend()\n",
        "  \n",
        "plot_training(history)"
      ],
      "execution_count": 0,
      "outputs": [
        {
          "output_type": "display_data",
          "data": {
            "image/png": "[encoded data removed]",
            "text/plain": [
              "<Figure size 1080x360 with 2 Axes>"
            ]
          },
          "metadata": {
            "tags": []
          }
        }
      ]
    },
    {
      "cell_type": "code",
      "metadata": {
        "id": "O6R05qfagXf7",
        "colab_type": "code",
        "colab": {}
      },
      "source": [
        "############# Use pretrained MobileNetV2 \n",
        "# Resize the images\n",
        "x_train_resize = tf.image.resize(\n",
        "                        x_train / 255.,\n",
        "                        [96, 96],\n",
        "                        method='bilinear',\n",
        "                        preserve_aspect_ratio=False,\n",
        "                        antialias=True)\n",
        "\n",
        "x_validation_resize = tf.image.resize(\n",
        "                        x_validation,\n",
        "                        [96, 96],\n",
        "                        method='bilinear',\n",
        "                        preserve_aspect_ratio=False,\n",
        "                        antialias=True)\n",
        "\n",
        "#### Data augmentation\n",
        "from keras.preprocessing.image import ImageDataGenerator\n",
        "\n",
        "# Create the augmentation generator\n",
        "train_datagen = ImageDataGenerator(\n",
        "    rescale=1./255.,\n",
        "    rotation_range=40,\n",
        "    width_shift_range=0.2,\n",
        "    height_shift_range=0.2,\n",
        "    shear_range=0.2,\n",
        "    zoom_range=0.2,\n",
        "    brightness_range=(0.8, 1.2),\n",
        "    channel_shift_range=0.2,\n",
        "    horizontal_flip=True,)\n",
        "train_datagen.fit(x_train_resize)\n",
        "\n",
        "# Note that the validation data should not be augmented!\n",
        "train_generator = train_datagen.flow(\n",
        "        x_train_resize, y_train,\n",
        "        batch_size=32)\n",
        "\n",
        "# Load the base model\n",
        "base_model = tf.keras.applications.MobileNetV2(input_shape=x_train_resize[0].shape,\n",
        "                                               include_top=False,\n",
        "                                               weights='imagenet')\n",
        "\n",
        "# freeze all weights\n",
        "base_model.trainable = False \n",
        "global_average_layer = tf.keras.layers.GlobalAveragePooling2D()\n",
        "prediction_layer = tf.keras.layers.Dense(10, activation='softmax')\n",
        "\n",
        "# build a new model reusing the pretrained base\n",
        "model = tf.keras.Sequential([\n",
        "  base_model,\n",
        "  global_average_layer,\n",
        "  prediction_layer\n",
        "])\n",
        "\n",
        "# Compile the model and train the last layer\n",
        "model.compile(optimizer='adam',\n",
        "              loss='sparse_categorical_crossentropy',\n",
        "              metrics=['accuracy'])\n",
        "history = model.fit(train_generator, validation_data=(x_validation_resize, y_validation), epochs=20)"
      ],
      "execution_count": 0,
      "outputs": []
    },
    {
      "cell_type": "code",
      "metadata": {
        "id": "xRBqZ4ResWNL",
        "colab_type": "code",
        "colab": {}
      },
      "source": [
        "# Unfreeze some layers and train everything again\n",
        "model.trainable = True\n",
        "max_layer_freeze = 60\n",
        "for layer in base_model.layers[:max_layer_freeze]:\n",
        "  layer.trainable = False\n",
        "\n",
        "model.compile(optimizer='adam',\n",
        "              loss='sparse_categorical_crossentropy',\n",
        "              metrics=['accuracy'])\n",
        "history = model.fit(train_generator, validation_data=(x_validation_resize, y_validation), epochs=100)"
      ],
      "execution_count": 0,
      "outputs": []
    },
    {
      "cell_type": "markdown",
      "metadata": {
        "id": "BDoYYaFoJOsR",
        "colab_type": "text"
      },
      "source": [
        ""
      ]
    }
  ]
}